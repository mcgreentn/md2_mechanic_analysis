{
 "cells": [
  {
   "cell_type": "markdown",
   "id": "061360c0",
   "metadata": {},
   "source": [
    "# Imports"
   ]
  },
  {
   "cell_type": "code",
   "execution_count": 215,
   "id": "65a49a2c",
   "metadata": {},
   "outputs": [],
   "source": [
    "import numpy as np\n",
    "import os\n",
    "import math\n",
    "import pandas as pd\n",
    "import plotly.graph_objects as go\n",
    "from plotly.subplots import make_subplots\n",
    "import csv\n",
    "import json\n",
    "from scipy.stats import wasserstein_distance\n",
    "import statistics\n",
    "from tqdm import tqdm\n",
    "import shutil\n",
    "from sklearn.metrics.pairwise import cosine_similarity\n",
    "from sklearn.neighbors import KNeighborsClassifier\n",
    "from sklearn import tree\n",
    "from sklearn import svm"
   ]
  },
  {
   "cell_type": "markdown",
   "id": "02ff6142",
   "metadata": {},
   "source": [
    "# Data Loading Functions"
   ]
  },
  {
   "cell_type": "code",
   "execution_count": 100,
   "id": "dc80fdca",
   "metadata": {},
   "outputs": [],
   "source": [
    "def read_stats_data(name, mechanics, folder):\n",
    "    data = {}\n",
    "    for mech in mechanics:\n",
    "        data[mech] = []\n",
    "    data[\"endTurn\"] = []\n",
    "    file_names = [f for f in os.listdir(folder) if name in f]\n",
    "    for fn in file_names:\n",
    "        with open(os.path.join(folder,fn)) as f:\n",
    "            json_data = json.load(f)\n",
    "            if \"results\" in json_data:\n",
    "                json_data = json_data[\"results\"]\n",
    "            for playtrace in json_data:\n",
    "                for mech in mechanics:\n",
    "                    if mech in playtrace[\"frequencies\"]:\n",
    "                        data[mech].append(playtrace[\"frequencies\"][mech])\n",
    "                    else:\n",
    "                        data[mech].append(0.0)\n",
    "                data[\"endTurn\"].append(playtrace[\"levelReport\"][\"turnsTaken\"])\n",
    "    return pd.DataFrame(data)\n",
    "\n",
    "def build_users_data(folder, mechanics, users):\n",
    "    full_data = read_stats_data(users[0], mechanics, folder)\n",
    "    full_data['id'] = users[0]\n",
    "    for user in users[1:]:\n",
    "        user_data = read_stats_data(user, mechanics, folder)\n",
    "        user_data['id'] = user\n",
    "        full_data = pd.concat([full_data, user_data])\n",
    "    full_data.set_index('id', inplace=True)\n",
    "    return full_data\n",
    "\n",
    "def read_questionaire(name, classes, folder):\n",
    "    data = {}\n",
    "    for key in classses:\n",
    "        data[key] = []\n",
    "    "
   ]
  },
  {
   "cell_type": "markdown",
   "id": "12132738",
   "metadata": {},
   "source": [
    "# Helper Functions"
   ]
  },
  {
   "cell_type": "code",
   "execution_count": 210,
   "id": "b38cfcdd",
   "metadata": {},
   "outputs": [],
   "source": [
    "def get_mechanics(folders):\n",
    "    uniques = set()\n",
    "    for folder in folders:\n",
    "        filenames = [f for f in os.listdir(folder) if \".json\" in f]\n",
    "        for fn in filenames:\n",
    "            with open(os.path.join(folder,fn)) as f:\n",
    "                json_data = json.load(f)\n",
    "                if \"results\" in json_data:\n",
    "                    json_data = json_data[\"results\"]\n",
    "                for playtrace in json_data:\n",
    "                    for key in playtrace[\"frequencies\"].keys():\n",
    "                        uniques.add(key)\n",
    "    return list(uniques)\n",
    "\n",
    "def get_users(folders):\n",
    "    uniques = set()\n",
    "    for folder in folders:\n",
    "        filenames = [f for f in os.listdir(folder) if \".json\" in f]\n",
    "        for fn in filenames:\n",
    "            uuid = fn.split(\".\")[0]\n",
    "            uniques.add(uuid)\n",
    "    return list(uniques)\n",
    "\n",
    "def get_majority_voting(clf, data):\n",
    "    labels = clf.predict(data).reshape((-1,3))\n",
    "    result = []\n",
    "    for row in labels:\n",
    "        vals,counts= np.unique(row, return_counts=True)\n",
    "        index = np.argmax(counts)\n",
    "        result.append(vals[index])\n",
    "    return np.array(result)"
   ]
  },
  {
   "cell_type": "markdown",
   "id": "8ed1a324",
   "metadata": {},
   "source": [
    "# Building Data"
   ]
  },
  {
   "cell_type": "code",
   "execution_count": 261,
   "id": "762b0609",
   "metadata": {},
   "outputs": [],
   "source": [
    "mechanics = get_mechanics([\"results\", \"valid_study\"])\n",
    "users = get_users([\"valid_study\"])\n",
    "\n",
    "mk_data = read_stats_data(\"MK\", mechanics, \"results\")\n",
    "tc_data = read_stats_data(\"TC\", mechanics, \"results\")\n",
    "r_data = read_stats_data(\"R\", mechanics, \"results\")\n",
    "user_data = build_users_data(\"valid_study\", mechanics, users)"
   ]
  },
  {
   "cell_type": "markdown",
   "id": "69c4c952",
   "metadata": {},
   "source": [
    "# Building Data Set"
   ]
  },
  {
   "cell_type": "code",
   "execution_count": 265,
   "id": "87bb4ac0",
   "metadata": {},
   "outputs": [],
   "source": [
    "input_data = pd.concat([mk_data, tc_data, r_data], ignore_index=True).to_numpy()\n",
    "output_data = pd.Series([0]*len(mk_data) + [1]*len(tc_data) + [2]*len(r_data)).to_numpy()\n",
    "avg_test_set = user_data.groupby('id').mean().to_numpy()\n",
    "maj_test_set = user_data.to_numpy()\n",
    "\n",
    "total_data = np.concatenate((input_data, avg_test_set, maj_test_set)) \n",
    "max_values = total_data.max(axis=0)\n",
    "\n",
    "n_input_data = input_data / max_values\n",
    "n_avg_test_set = avg_test_set / max_values\n",
    "n_maj_test_set = maj_test_set / max_values"
   ]
  },
  {
   "cell_type": "markdown",
   "id": "36543d76",
   "metadata": {},
   "source": [
    "# Training Classifier"
   ]
  },
  {
   "cell_type": "code",
   "execution_count": 266,
   "id": "c2858284",
   "metadata": {},
   "outputs": [
    {
     "name": "stdout",
     "output_type": "stream",
     "text": [
      "Decision Tree Training Score: 0.9066666666666666\n",
      "K Nearest Neighbor Training Score: 0.9156666666666666\n",
      "Support Vector Machine Training Score: 0.8506666666666667\n"
     ]
    }
   ],
   "source": [
    "dt = tree.DecisionTreeClassifier(max_depth=9)\n",
    "dt = dt.fit(n_input_data, output_data)\n",
    "print(f\"Decision Tree Training Score: {dt.score(n_input_data, output_data)}\")\n",
    "\n",
    "knn = KNeighborsClassifier(n_neighbors=3)\n",
    "knn = knn.fit(n_input_data, output_data)\n",
    "print(f\"K Nearest Neighbor Training Score: {knn.score(n_input_data, output_data)}\")\n",
    "\n",
    "svc = svm.SVC(decision_function_shape='ovo')\n",
    "svc = svc.fit(n_input_data, output_data)\n",
    "print(f\"Support Vector Machine Training Score: {svc.score(n_input_data, output_data)}\")"
   ]
  },
  {
   "cell_type": "markdown",
   "id": "54575566",
   "metadata": {},
   "source": [
    "# Predicting Users"
   ]
  },
  {
   "cell_type": "code",
   "execution_count": 267,
   "id": "6b005b38",
   "metadata": {},
   "outputs": [
    {
     "name": "stdout",
     "output_type": "stream",
     "text": [
      "Average DT vs KNN: 0.6190476190476191\n",
      "Average DT vs SVC: 0.6523809523809524\n",
      "Average KNN vs SVC: 0.7476190476190476\n",
      "Majority DT vs KNN: 0.6238095238095238\n",
      "Majority DT vs SVC: 0.638095238095238\n",
      "Majority KNN vs SVC: 0.8476190476190476\n"
     ]
    }
   ],
   "source": [
    "dt_avg_labels = dt.predict(n_avg_test_set)\n",
    "knn_avg_labels = knn.predict(n_avg_test_set)\n",
    "svc_avg_labels = svc.predict(n_avg_test_set)\n",
    "print(f\"Average DT vs KNN: {(dt_avg_labels == knn_avg_labels).sum()/len(avg_test_set)}\")\n",
    "print(f\"Average DT vs SVC: {(dt_avg_labels == svc_avg_labels).sum()/len(avg_test_set)}\")\n",
    "print(f\"Average KNN vs SVC: {(knn_avg_labels == svc_avg_labels).sum()/len(avg_test_set)}\")\n",
    "dt_maj_labels = get_majority_voting(dt, n_maj_test_set)\n",
    "knn_maj_labels = get_majority_voting(knn, n_maj_test_set)\n",
    "svc_maj_labels = get_majority_voting(svc, n_maj_test_set)\n",
    "print(f\"Majority DT vs KNN: {(dt_maj_labels == knn_maj_labels).sum()/len(avg_test_set)}\")\n",
    "print(f\"Majority DT vs SVC: {(dt_maj_labels == svc_maj_labels).sum()/len(avg_test_set)}\")\n",
    "print(f\"Majority KNN vs SVC: {(knn_maj_labels == svc_maj_labels).sum()/len(avg_test_set)}\")"
   ]
  },
  {
   "cell_type": "code",
   "execution_count": null,
   "id": "523791ae",
   "metadata": {},
   "outputs": [],
   "source": []
  }
 ],
 "metadata": {
  "kernelspec": {
   "display_name": "Python 3.9.1 64-bit ('base': conda)",
   "language": "python",
   "name": "python391jvsc74a57bd024e6b29142bd44354db0d592add29d68e9ab4027b35f4ad05b8eab4548619476"
  },
  "language_info": {
   "codemirror_mode": {
    "name": "ipython",
    "version": 3
   },
   "file_extension": ".py",
   "mimetype": "text/x-python",
   "name": "python",
   "nbconvert_exporter": "python",
   "pygments_lexer": "ipython3",
   "version": "3.9.1"
  }
 },
 "nbformat": 4,
 "nbformat_minor": 5
}
